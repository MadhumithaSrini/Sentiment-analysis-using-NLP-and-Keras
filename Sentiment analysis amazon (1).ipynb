{
 "cells": [
  {
   "cell_type": "code",
   "execution_count": 1,
   "metadata": {},
   "outputs": [],
   "source": [
    "import numpy as np\n",
    "import pandas as pd\n",
    "from numpy import array\n",
    "from keras.models import Sequential\n",
    "from keras.layers import LSTM\n",
    "from keras.layers import Dense\n",
    "\n",
    "import matplotlib.pyplot as plt\n",
    "import seaborn as sns"
   ]
  },
  {
   "cell_type": "code",
   "execution_count": 2,
   "metadata": {
    "scrolled": true
   },
   "outputs": [
    {
     "data": {
      "text/html": [
       "<div>\n",
       "<style scoped>\n",
       "    .dataframe tbody tr th:only-of-type {\n",
       "        vertical-align: middle;\n",
       "    }\n",
       "\n",
       "    .dataframe tbody tr th {\n",
       "        vertical-align: top;\n",
       "    }\n",
       "\n",
       "    .dataframe thead th {\n",
       "        text-align: right;\n",
       "    }\n",
       "</style>\n",
       "<table border=\"1\" class=\"dataframe\">\n",
       "  <thead>\n",
       "    <tr style=\"text-align: right;\">\n",
       "      <th></th>\n",
       "      <th>Review</th>\n",
       "      <th>Sentiment</th>\n",
       "      <th>Sentiment1</th>\n",
       "      <th>Unnamed: 3</th>\n",
       "      <th>Unnamed: 4</th>\n",
       "      <th>Unnamed: 5</th>\n",
       "    </tr>\n",
       "  </thead>\n",
       "  <tbody>\n",
       "    <tr>\n",
       "      <th>0</th>\n",
       "      <td>So there is no way for me to plug it in here i...</td>\n",
       "      <td>0</td>\n",
       "      <td>NaN</td>\n",
       "      <td>NaN</td>\n",
       "      <td>NaN</td>\n",
       "      <td>NaN</td>\n",
       "    </tr>\n",
       "    <tr>\n",
       "      <th>1</th>\n",
       "      <td>Good case</td>\n",
       "      <td>Excellent value.</td>\n",
       "      <td>1</td>\n",
       "      <td>NaN</td>\n",
       "      <td>NaN</td>\n",
       "      <td>NaN</td>\n",
       "    </tr>\n",
       "    <tr>\n",
       "      <th>2</th>\n",
       "      <td>Great for the jawbone.</td>\n",
       "      <td>1</td>\n",
       "      <td>NaN</td>\n",
       "      <td>NaN</td>\n",
       "      <td>NaN</td>\n",
       "      <td>NaN</td>\n",
       "    </tr>\n",
       "    <tr>\n",
       "      <th>3</th>\n",
       "      <td>Tied to charger for conversations lasting more...</td>\n",
       "      <td>0</td>\n",
       "      <td>NaN</td>\n",
       "      <td>NaN</td>\n",
       "      <td>NaN</td>\n",
       "      <td>NaN</td>\n",
       "    </tr>\n",
       "    <tr>\n",
       "      <th>4</th>\n",
       "      <td>The mic is great.</td>\n",
       "      <td>1</td>\n",
       "      <td>NaN</td>\n",
       "      <td>NaN</td>\n",
       "      <td>NaN</td>\n",
       "      <td>NaN</td>\n",
       "    </tr>\n",
       "  </tbody>\n",
       "</table>\n",
       "</div>"
      ],
      "text/plain": [
       "                                              Review          Sentiment  \\\n",
       "0  So there is no way for me to plug it in here i...                  0   \n",
       "1                                          Good case   Excellent value.   \n",
       "2                             Great for the jawbone.                  1   \n",
       "3  Tied to charger for conversations lasting more...                  0   \n",
       "4                                  The mic is great.                  1   \n",
       "\n",
       "  Sentiment1 Unnamed: 3 Unnamed: 4  Unnamed: 5  \n",
       "0        NaN        NaN        NaN         NaN  \n",
       "1          1        NaN        NaN         NaN  \n",
       "2        NaN        NaN        NaN         NaN  \n",
       "3        NaN        NaN        NaN         NaN  \n",
       "4        NaN        NaN        NaN         NaN  "
      ]
     },
     "execution_count": 2,
     "metadata": {},
     "output_type": "execute_result"
    }
   ],
   "source": [
    "df = pd.read_csv(\"C:/Users/madhumitha/Downloads/sentiment labelled sentences/amazon_cells_labelled.csv\")\n",
    "df.head()"
   ]
  },
  {
   "cell_type": "code",
   "execution_count": 3,
   "metadata": {},
   "outputs": [
    {
     "data": {
      "text/plain": [
       "Review         object\n",
       "Sentiment      object\n",
       "Sentiment1     object\n",
       "Unnamed: 3     object\n",
       "Unnamed: 4     object\n",
       "Unnamed: 5    float64\n",
       "dtype: object"
      ]
     },
     "execution_count": 3,
     "metadata": {},
     "output_type": "execute_result"
    }
   ],
   "source": [
    "df.dtypes"
   ]
  },
  {
   "cell_type": "code",
   "execution_count": 4,
   "metadata": {
    "scrolled": true
   },
   "outputs": [
    {
     "data": {
      "text/plain": [
       "0      NaN\n",
       "1        1\n",
       "2      NaN\n",
       "3      NaN\n",
       "4      NaN\n",
       "      ... \n",
       "995    NaN\n",
       "996    NaN\n",
       "997    NaN\n",
       "998    NaN\n",
       "999      0\n",
       "Name: Sentiment1, Length: 1000, dtype: object"
      ]
     },
     "execution_count": 4,
     "metadata": {},
     "output_type": "execute_result"
    }
   ],
   "source": [
    "#combines the values of the columns but does not take NaN into consideration\n",
    "df['Sentiment1'].combine_first(df['Unnamed: 3'])\n",
    "df['Sentiment1'].combine_first(df['Unnamed: 4'])\n",
    "df['Sentiment1'].combine_first(df['Unnamed: 5'])"
   ]
  },
  {
   "cell_type": "code",
   "execution_count": 5,
   "metadata": {},
   "outputs": [
    {
     "data": {
      "text/plain": [
       "Review                  Well packaged\n",
       "Sentiment             arrived on time\n",
       "Sentiment1     and works as intended.\n",
       "Unnamed: 3                          1\n",
       "Unnamed: 4                        NaN\n",
       "Unnamed: 5                        NaN\n",
       "Name: 82, dtype: object"
      ]
     },
     "execution_count": 5,
     "metadata": {},
     "output_type": "execute_result"
    }
   ],
   "source": [
    "df.loc[82,:]"
   ]
  },
  {
   "cell_type": "code",
   "execution_count": 6,
   "metadata": {
    "scrolled": true
   },
   "outputs": [
    {
     "data": {
      "text/html": [
       "<div>\n",
       "<style scoped>\n",
       "    .dataframe tbody tr th:only-of-type {\n",
       "        vertical-align: middle;\n",
       "    }\n",
       "\n",
       "    .dataframe tbody tr th {\n",
       "        vertical-align: top;\n",
       "    }\n",
       "\n",
       "    .dataframe thead th {\n",
       "        text-align: right;\n",
       "    }\n",
       "</style>\n",
       "<table border=\"1\" class=\"dataframe\">\n",
       "  <thead>\n",
       "    <tr style=\"text-align: right;\">\n",
       "      <th></th>\n",
       "      <th>Review</th>\n",
       "      <th>Sentiment</th>\n",
       "      <th>Sentiment1</th>\n",
       "      <th>Unnamed: 3</th>\n",
       "      <th>Unnamed: 4</th>\n",
       "      <th>Unnamed: 5</th>\n",
       "    </tr>\n",
       "  </thead>\n",
       "  <tbody>\n",
       "    <tr>\n",
       "      <th>0</th>\n",
       "      <td>So there is no way for me to plug it in here i...</td>\n",
       "      <td>0</td>\n",
       "      <td>NaN</td>\n",
       "      <td>NaN</td>\n",
       "      <td>NaN</td>\n",
       "      <td>NaN</td>\n",
       "    </tr>\n",
       "    <tr>\n",
       "      <th>1</th>\n",
       "      <td>Good case</td>\n",
       "      <td>Excellent value.</td>\n",
       "      <td>1</td>\n",
       "      <td>NaN</td>\n",
       "      <td>NaN</td>\n",
       "      <td>NaN</td>\n",
       "    </tr>\n",
       "    <tr>\n",
       "      <th>2</th>\n",
       "      <td>Great for the jawbone.</td>\n",
       "      <td>1</td>\n",
       "      <td>NaN</td>\n",
       "      <td>NaN</td>\n",
       "      <td>NaN</td>\n",
       "      <td>NaN</td>\n",
       "    </tr>\n",
       "    <tr>\n",
       "      <th>3</th>\n",
       "      <td>Tied to charger for conversations lasting more...</td>\n",
       "      <td>0</td>\n",
       "      <td>NaN</td>\n",
       "      <td>NaN</td>\n",
       "      <td>NaN</td>\n",
       "      <td>NaN</td>\n",
       "    </tr>\n",
       "    <tr>\n",
       "      <th>4</th>\n",
       "      <td>The mic is great.</td>\n",
       "      <td>1</td>\n",
       "      <td>NaN</td>\n",
       "      <td>NaN</td>\n",
       "      <td>NaN</td>\n",
       "      <td>NaN</td>\n",
       "    </tr>\n",
       "    <tr>\n",
       "      <th>5</th>\n",
       "      <td>I have to jiggle the plug to get it to line up...</td>\n",
       "      <td>0</td>\n",
       "      <td>NaN</td>\n",
       "      <td>NaN</td>\n",
       "      <td>NaN</td>\n",
       "      <td>NaN</td>\n",
       "    </tr>\n",
       "    <tr>\n",
       "      <th>6</th>\n",
       "      <td>If you have several dozen or several hundred c...</td>\n",
       "      <td>then imagine the fun of sending each of them ...</td>\n",
       "      <td>0</td>\n",
       "      <td>NaN</td>\n",
       "      <td>NaN</td>\n",
       "      <td>NaN</td>\n",
       "    </tr>\n",
       "    <tr>\n",
       "      <th>7</th>\n",
       "      <td>If you are Razr owner...you must have this!</td>\n",
       "      <td>1</td>\n",
       "      <td>NaN</td>\n",
       "      <td>NaN</td>\n",
       "      <td>NaN</td>\n",
       "      <td>NaN</td>\n",
       "    </tr>\n",
       "    <tr>\n",
       "      <th>8</th>\n",
       "      <td>Needless to say</td>\n",
       "      <td>I wasted my money.</td>\n",
       "      <td>0</td>\n",
       "      <td>NaN</td>\n",
       "      <td>NaN</td>\n",
       "      <td>NaN</td>\n",
       "    </tr>\n",
       "    <tr>\n",
       "      <th>9</th>\n",
       "      <td>What a waste of money and time!.</td>\n",
       "      <td>0</td>\n",
       "      <td>NaN</td>\n",
       "      <td>NaN</td>\n",
       "      <td>NaN</td>\n",
       "      <td>NaN</td>\n",
       "    </tr>\n",
       "    <tr>\n",
       "      <th>10</th>\n",
       "      <td>And the sound quality is great.</td>\n",
       "      <td>1</td>\n",
       "      <td>NaN</td>\n",
       "      <td>NaN</td>\n",
       "      <td>NaN</td>\n",
       "      <td>NaN</td>\n",
       "    </tr>\n",
       "    <tr>\n",
       "      <th>11</th>\n",
       "      <td>He was very impressed when going from the orig...</td>\n",
       "      <td>1</td>\n",
       "      <td>NaN</td>\n",
       "      <td>NaN</td>\n",
       "      <td>NaN</td>\n",
       "      <td>NaN</td>\n",
       "    </tr>\n",
       "  </tbody>\n",
       "</table>\n",
       "</div>"
      ],
      "text/plain": [
       "                                               Review  \\\n",
       "0   So there is no way for me to plug it in here i...   \n",
       "1                                           Good case   \n",
       "2                              Great for the jawbone.   \n",
       "3   Tied to charger for conversations lasting more...   \n",
       "4                                   The mic is great.   \n",
       "5   I have to jiggle the plug to get it to line up...   \n",
       "6   If you have several dozen or several hundred c...   \n",
       "7         If you are Razr owner...you must have this!   \n",
       "8                                     Needless to say   \n",
       "9                    What a waste of money and time!.   \n",
       "10                    And the sound quality is great.   \n",
       "11  He was very impressed when going from the orig...   \n",
       "\n",
       "                                            Sentiment Sentiment1 Unnamed: 3  \\\n",
       "0                                                   0        NaN        NaN   \n",
       "1                                    Excellent value.          1        NaN   \n",
       "2                                                   1        NaN        NaN   \n",
       "3                                                   0        NaN        NaN   \n",
       "4                                                   1        NaN        NaN   \n",
       "5                                                   0        NaN        NaN   \n",
       "6    then imagine the fun of sending each of them ...          0        NaN   \n",
       "7                                                   1        NaN        NaN   \n",
       "8                                  I wasted my money.          0        NaN   \n",
       "9                                                   0        NaN        NaN   \n",
       "10                                                  1        NaN        NaN   \n",
       "11                                                  1        NaN        NaN   \n",
       "\n",
       "   Unnamed: 4  Unnamed: 5  \n",
       "0         NaN         NaN  \n",
       "1         NaN         NaN  \n",
       "2         NaN         NaN  \n",
       "3         NaN         NaN  \n",
       "4         NaN         NaN  \n",
       "5         NaN         NaN  \n",
       "6         NaN         NaN  \n",
       "7         NaN         NaN  \n",
       "8         NaN         NaN  \n",
       "9         NaN         NaN  \n",
       "10        NaN         NaN  \n",
       "11        NaN         NaN  "
      ]
     },
     "execution_count": 6,
     "metadata": {},
     "output_type": "execute_result"
    }
   ],
   "source": [
    "df.loc[0:11]"
   ]
  },
  {
   "cell_type": "code",
   "execution_count": 7,
   "metadata": {
    "scrolled": false
   },
   "outputs": [],
   "source": [
    "df = df.drop(columns = [\"Unnamed: 3\", \"Unnamed: 4\" ,\"Unnamed: 5\"])"
   ]
  },
  {
   "cell_type": "code",
   "execution_count": 8,
   "metadata": {},
   "outputs": [],
   "source": [
    "#to concatenate the strings in different columns\n",
    "df[\"Review\"] = df['Review'] + df['Sentiment'] "
   ]
  },
  {
   "cell_type": "code",
   "execution_count": 9,
   "metadata": {},
   "outputs": [
    {
     "data": {
      "text/html": [
       "<div>\n",
       "<style scoped>\n",
       "    .dataframe tbody tr th:only-of-type {\n",
       "        vertical-align: middle;\n",
       "    }\n",
       "\n",
       "    .dataframe tbody tr th {\n",
       "        vertical-align: top;\n",
       "    }\n",
       "\n",
       "    .dataframe thead th {\n",
       "        text-align: right;\n",
       "    }\n",
       "</style>\n",
       "<table border=\"1\" class=\"dataframe\">\n",
       "  <thead>\n",
       "    <tr style=\"text-align: right;\">\n",
       "      <th></th>\n",
       "      <th>Review</th>\n",
       "      <th>Sentiment</th>\n",
       "      <th>Sentiment1</th>\n",
       "    </tr>\n",
       "  </thead>\n",
       "  <tbody>\n",
       "    <tr>\n",
       "      <th>0</th>\n",
       "      <td>So there is no way for me to plug it in here i...</td>\n",
       "      <td>0</td>\n",
       "      <td>NaN</td>\n",
       "    </tr>\n",
       "    <tr>\n",
       "      <th>1</th>\n",
       "      <td>Good case Excellent value.</td>\n",
       "      <td>Excellent value.</td>\n",
       "      <td>1</td>\n",
       "    </tr>\n",
       "    <tr>\n",
       "      <th>2</th>\n",
       "      <td>Great for the jawbone.1</td>\n",
       "      <td>1</td>\n",
       "      <td>NaN</td>\n",
       "    </tr>\n",
       "    <tr>\n",
       "      <th>3</th>\n",
       "      <td>Tied to charger for conversations lasting more...</td>\n",
       "      <td>0</td>\n",
       "      <td>NaN</td>\n",
       "    </tr>\n",
       "    <tr>\n",
       "      <th>4</th>\n",
       "      <td>The mic is great.1</td>\n",
       "      <td>1</td>\n",
       "      <td>NaN</td>\n",
       "    </tr>\n",
       "  </tbody>\n",
       "</table>\n",
       "</div>"
      ],
      "text/plain": [
       "                                              Review          Sentiment  \\\n",
       "0  So there is no way for me to plug it in here i...                  0   \n",
       "1                         Good case Excellent value.   Excellent value.   \n",
       "2                            Great for the jawbone.1                  1   \n",
       "3  Tied to charger for conversations lasting more...                  0   \n",
       "4                                 The mic is great.1                  1   \n",
       "\n",
       "  Sentiment1  \n",
       "0        NaN  \n",
       "1          1  \n",
       "2        NaN  \n",
       "3        NaN  \n",
       "4        NaN  "
      ]
     },
     "execution_count": 9,
     "metadata": {},
     "output_type": "execute_result"
    }
   ],
   "source": [
    "df.head()"
   ]
  },
  {
   "cell_type": "code",
   "execution_count": 10,
   "metadata": {},
   "outputs": [],
   "source": [
    "#df[\"Sentiment1\"] = df['Sentiment1'].astype('string')\n",
    "#df[\"Sentiment\"] = df['Sentiment'].astype('string')"
   ]
  },
  {
   "cell_type": "code",
   "execution_count": 11,
   "metadata": {},
   "outputs": [],
   "source": [
    "df[\"Sentiment1\"] = df['Sentiment1'].combine_first(df['Sentiment'])"
   ]
  },
  {
   "cell_type": "code",
   "execution_count": 12,
   "metadata": {
    "scrolled": true
   },
   "outputs": [
    {
     "data": {
      "text/html": [
       "<div>\n",
       "<style scoped>\n",
       "    .dataframe tbody tr th:only-of-type {\n",
       "        vertical-align: middle;\n",
       "    }\n",
       "\n",
       "    .dataframe tbody tr th {\n",
       "        vertical-align: top;\n",
       "    }\n",
       "\n",
       "    .dataframe thead th {\n",
       "        text-align: right;\n",
       "    }\n",
       "</style>\n",
       "<table border=\"1\" class=\"dataframe\">\n",
       "  <thead>\n",
       "    <tr style=\"text-align: right;\">\n",
       "      <th></th>\n",
       "      <th>Review</th>\n",
       "      <th>Sentiment</th>\n",
       "      <th>Sentiment1</th>\n",
       "    </tr>\n",
       "  </thead>\n",
       "  <tbody>\n",
       "    <tr>\n",
       "      <th>0</th>\n",
       "      <td>So there is no way for me to plug it in here i...</td>\n",
       "      <td>0</td>\n",
       "      <td>0</td>\n",
       "    </tr>\n",
       "    <tr>\n",
       "      <th>1</th>\n",
       "      <td>Good case Excellent value.</td>\n",
       "      <td>Excellent value.</td>\n",
       "      <td>1</td>\n",
       "    </tr>\n",
       "    <tr>\n",
       "      <th>2</th>\n",
       "      <td>Great for the jawbone.1</td>\n",
       "      <td>1</td>\n",
       "      <td>1</td>\n",
       "    </tr>\n",
       "    <tr>\n",
       "      <th>3</th>\n",
       "      <td>Tied to charger for conversations lasting more...</td>\n",
       "      <td>0</td>\n",
       "      <td>0</td>\n",
       "    </tr>\n",
       "    <tr>\n",
       "      <th>4</th>\n",
       "      <td>The mic is great.1</td>\n",
       "      <td>1</td>\n",
       "      <td>1</td>\n",
       "    </tr>\n",
       "  </tbody>\n",
       "</table>\n",
       "</div>"
      ],
      "text/plain": [
       "                                              Review          Sentiment  \\\n",
       "0  So there is no way for me to plug it in here i...                  0   \n",
       "1                         Good case Excellent value.   Excellent value.   \n",
       "2                            Great for the jawbone.1                  1   \n",
       "3  Tied to charger for conversations lasting more...                  0   \n",
       "4                                 The mic is great.1                  1   \n",
       "\n",
       "  Sentiment1  \n",
       "0          0  \n",
       "1          1  \n",
       "2          1  \n",
       "3          0  \n",
       "4          1  "
      ]
     },
     "execution_count": 12,
     "metadata": {},
     "output_type": "execute_result"
    }
   ],
   "source": [
    "df.head()"
   ]
  },
  {
   "cell_type": "code",
   "execution_count": 13,
   "metadata": {},
   "outputs": [],
   "source": [
    "df.drop(columns = \"Sentiment\", inplace = True)"
   ]
  },
  {
   "cell_type": "code",
   "execution_count": 14,
   "metadata": {},
   "outputs": [
    {
     "data": {
      "text/plain": [
       "Review        Well packaged arrived on time\n",
       "Sentiment1           and works as intended.\n",
       "Name: 82, dtype: object"
      ]
     },
     "execution_count": 14,
     "metadata": {},
     "output_type": "execute_result"
    }
   ],
   "source": [
    "df.loc[82,:]"
   ]
  },
  {
   "cell_type": "code",
   "execution_count": 15,
   "metadata": {},
   "outputs": [
    {
     "data": {
      "text/plain": [
       "Review        object\n",
       "Sentiment1    object\n",
       "dtype: object"
      ]
     },
     "execution_count": 15,
     "metadata": {},
     "output_type": "execute_result"
    }
   ],
   "source": [
    "df.dtypes"
   ]
  },
  {
   "cell_type": "code",
   "execution_count": 16,
   "metadata": {},
   "outputs": [],
   "source": [
    "#renaming the column for ease\n",
    "df.rename(columns={\"Sentiment1\": \"Sentiment\"},inplace = True)"
   ]
  },
  {
   "cell_type": "code",
   "execution_count": 17,
   "metadata": {
    "scrolled": true
   },
   "outputs": [
    {
     "data": {
      "text/html": [
       "<div>\n",
       "<style scoped>\n",
       "    .dataframe tbody tr th:only-of-type {\n",
       "        vertical-align: middle;\n",
       "    }\n",
       "\n",
       "    .dataframe tbody tr th {\n",
       "        vertical-align: top;\n",
       "    }\n",
       "\n",
       "    .dataframe thead th {\n",
       "        text-align: right;\n",
       "    }\n",
       "</style>\n",
       "<table border=\"1\" class=\"dataframe\">\n",
       "  <thead>\n",
       "    <tr style=\"text-align: right;\">\n",
       "      <th></th>\n",
       "      <th>Review</th>\n",
       "      <th>Sentiment</th>\n",
       "    </tr>\n",
       "  </thead>\n",
       "  <tbody>\n",
       "    <tr>\n",
       "      <th>0</th>\n",
       "      <td>So there is no way for me to plug it in here i...</td>\n",
       "      <td>0</td>\n",
       "    </tr>\n",
       "    <tr>\n",
       "      <th>1</th>\n",
       "      <td>Good case Excellent value.</td>\n",
       "      <td>1</td>\n",
       "    </tr>\n",
       "    <tr>\n",
       "      <th>2</th>\n",
       "      <td>Great for the jawbone.1</td>\n",
       "      <td>1</td>\n",
       "    </tr>\n",
       "    <tr>\n",
       "      <th>3</th>\n",
       "      <td>Tied to charger for conversations lasting more...</td>\n",
       "      <td>0</td>\n",
       "    </tr>\n",
       "    <tr>\n",
       "      <th>4</th>\n",
       "      <td>The mic is great.1</td>\n",
       "      <td>1</td>\n",
       "    </tr>\n",
       "  </tbody>\n",
       "</table>\n",
       "</div>"
      ],
      "text/plain": [
       "                                              Review Sentiment\n",
       "0  So there is no way for me to plug it in here i...         0\n",
       "1                         Good case Excellent value.         1\n",
       "2                            Great for the jawbone.1         1\n",
       "3  Tied to charger for conversations lasting more...         0\n",
       "4                                 The mic is great.1         1"
      ]
     },
     "execution_count": 17,
     "metadata": {},
     "output_type": "execute_result"
    }
   ],
   "source": [
    "df = df.dropna()\n",
    "df.head()"
   ]
  },
  {
   "cell_type": "code",
   "execution_count": 18,
   "metadata": {},
   "outputs": [],
   "source": [
    "import string\n",
    "\n",
    "def Sentiment_process(sent):\n",
    "    noalpha = []\n",
    "    char = []\n",
    "    count = 0\n",
    "    for char in sent:\n",
    "        if char!=\"0\" and char!=\"1\":\n",
    "            count = count+1\n",
    "            noalpha.append(np.NaN)\n",
    "            continue\n",
    "        else:    \n",
    "            noalpha.append(char)\n",
    "            continue \n",
    "    print(count)\n",
    "    return(noalpha)"
   ]
  },
  {
   "cell_type": "code",
   "execution_count": 19,
   "metadata": {},
   "outputs": [
    {
     "name": "stdout",
     "output_type": "stream",
     "text": [
      "55\n"
     ]
    }
   ],
   "source": [
    "df[\"Sentiment\"] = Sentiment_process(list(df[\"Sentiment\"]))"
   ]
  },
  {
   "cell_type": "code",
   "execution_count": 20,
   "metadata": {},
   "outputs": [
    {
     "data": {
      "text/html": [
       "<div>\n",
       "<style scoped>\n",
       "    .dataframe tbody tr th:only-of-type {\n",
       "        vertical-align: middle;\n",
       "    }\n",
       "\n",
       "    .dataframe tbody tr th {\n",
       "        vertical-align: top;\n",
       "    }\n",
       "\n",
       "    .dataframe thead th {\n",
       "        text-align: right;\n",
       "    }\n",
       "</style>\n",
       "<table border=\"1\" class=\"dataframe\">\n",
       "  <thead>\n",
       "    <tr style=\"text-align: right;\">\n",
       "      <th></th>\n",
       "      <th>Review</th>\n",
       "      <th>Sentiment</th>\n",
       "    </tr>\n",
       "  </thead>\n",
       "  <tbody>\n",
       "    <tr>\n",
       "      <th>80</th>\n",
       "      <td>I wear it everyday and it holds up very well.1</td>\n",
       "      <td>1</td>\n",
       "    </tr>\n",
       "    <tr>\n",
       "      <th>81</th>\n",
       "      <td>Not a good bargain.0</td>\n",
       "      <td>0</td>\n",
       "    </tr>\n",
       "    <tr>\n",
       "      <th>82</th>\n",
       "      <td>Well packaged arrived on time</td>\n",
       "      <td>NaN</td>\n",
       "    </tr>\n",
       "    <tr>\n",
       "      <th>83</th>\n",
       "      <td>The battery runs down quickly.0</td>\n",
       "      <td>0</td>\n",
       "    </tr>\n",
       "    <tr>\n",
       "      <th>84</th>\n",
       "      <td>This item worked great but it broke after 6 mo...</td>\n",
       "      <td>0</td>\n",
       "    </tr>\n",
       "    <tr>\n",
       "      <th>85</th>\n",
       "      <td>The headsets are easy to use and everyone love...</td>\n",
       "      <td>1</td>\n",
       "    </tr>\n",
       "  </tbody>\n",
       "</table>\n",
       "</div>"
      ],
      "text/plain": [
       "                                               Review Sentiment\n",
       "80     I wear it everyday and it holds up very well.1         1\n",
       "81                               Not a good bargain.0         0\n",
       "82                      Well packaged arrived on time       NaN\n",
       "83                    The battery runs down quickly.0         0\n",
       "84  This item worked great but it broke after 6 mo...         0\n",
       "85  The headsets are easy to use and everyone love...         1"
      ]
     },
     "execution_count": 20,
     "metadata": {},
     "output_type": "execute_result"
    }
   ],
   "source": [
    "df.loc[80:85]"
   ]
  },
  {
   "cell_type": "code",
   "execution_count": 21,
   "metadata": {},
   "outputs": [],
   "source": [
    "df = df.dropna()"
   ]
  },
  {
   "cell_type": "code",
   "execution_count": 22,
   "metadata": {},
   "outputs": [
    {
     "data": {
      "text/html": [
       "<div>\n",
       "<style scoped>\n",
       "    .dataframe tbody tr th:only-of-type {\n",
       "        vertical-align: middle;\n",
       "    }\n",
       "\n",
       "    .dataframe tbody tr th {\n",
       "        vertical-align: top;\n",
       "    }\n",
       "\n",
       "    .dataframe thead th {\n",
       "        text-align: right;\n",
       "    }\n",
       "</style>\n",
       "<table border=\"1\" class=\"dataframe\">\n",
       "  <thead>\n",
       "    <tr style=\"text-align: right;\">\n",
       "      <th></th>\n",
       "      <th>Review</th>\n",
       "      <th>Sentiment</th>\n",
       "    </tr>\n",
       "  </thead>\n",
       "  <tbody>\n",
       "    <tr>\n",
       "      <th>80</th>\n",
       "      <td>I wear it everyday and it holds up very well.1</td>\n",
       "      <td>1</td>\n",
       "    </tr>\n",
       "    <tr>\n",
       "      <th>81</th>\n",
       "      <td>Not a good bargain.0</td>\n",
       "      <td>0</td>\n",
       "    </tr>\n",
       "    <tr>\n",
       "      <th>83</th>\n",
       "      <td>The battery runs down quickly.0</td>\n",
       "      <td>0</td>\n",
       "    </tr>\n",
       "    <tr>\n",
       "      <th>84</th>\n",
       "      <td>This item worked great but it broke after 6 mo...</td>\n",
       "      <td>0</td>\n",
       "    </tr>\n",
       "    <tr>\n",
       "      <th>85</th>\n",
       "      <td>The headsets are easy to use and everyone love...</td>\n",
       "      <td>1</td>\n",
       "    </tr>\n",
       "  </tbody>\n",
       "</table>\n",
       "</div>"
      ],
      "text/plain": [
       "                                               Review Sentiment\n",
       "80     I wear it everyday and it holds up very well.1         1\n",
       "81                               Not a good bargain.0         0\n",
       "83                    The battery runs down quickly.0         0\n",
       "84  This item worked great but it broke after 6 mo...         0\n",
       "85  The headsets are easy to use and everyone love...         1"
      ]
     },
     "execution_count": 22,
     "metadata": {},
     "output_type": "execute_result"
    }
   ],
   "source": [
    "df.loc[80:85]"
   ]
  },
  {
   "cell_type": "code",
   "execution_count": 23,
   "metadata": {},
   "outputs": [
    {
     "name": "stdout",
     "output_type": "stream",
     "text": [
      "True\n"
     ]
    }
   ],
   "source": [
    "sample = \"A\"\n",
    "if str(sample).lower() == \"a\":\n",
    "    print(True)"
   ]
  },
  {
   "cell_type": "code",
   "execution_count": 24,
   "metadata": {},
   "outputs": [],
   "source": [
    "#df[\"Sentiment\"] = df['Sentiment'].astype('string')"
   ]
  },
  {
   "cell_type": "code",
   "execution_count": 25,
   "metadata": {},
   "outputs": [],
   "source": [
    "import nltk\n",
    "from nltk.corpus import stopwords"
   ]
  },
  {
   "cell_type": "code",
   "execution_count": 26,
   "metadata": {},
   "outputs": [],
   "source": [
    "import string\n",
    "def text_processing(text):\n",
    "    nopunc = []\n",
    "    for char in text:\n",
    "        if char not in string.punctuation:\n",
    "            if char!=str(\"0\") and char!=str(\"1\"):\n",
    "                nopunc.append(char)\n",
    "    nopunc = ''.join(nopunc)\n",
    "    \n",
    "    return [word for word in nopunc.split() if word.lower() not in stopwords.words('english')]"
   ]
  },
  {
   "cell_type": "code",
   "execution_count": 27,
   "metadata": {},
   "outputs": [],
   "source": [
    "df[\"Review\"] = df['Review'].str.replace('\\d+', '')\n",
    "df[\"BagOfWords\"] = df[\"Review\"].apply(text_processing)"
   ]
  },
  {
   "cell_type": "code",
   "execution_count": 28,
   "metadata": {
    "scrolled": true
   },
   "outputs": [
    {
     "data": {
      "text/html": [
       "<div>\n",
       "<style scoped>\n",
       "    .dataframe tbody tr th:only-of-type {\n",
       "        vertical-align: middle;\n",
       "    }\n",
       "\n",
       "    .dataframe tbody tr th {\n",
       "        vertical-align: top;\n",
       "    }\n",
       "\n",
       "    .dataframe thead th {\n",
       "        text-align: right;\n",
       "    }\n",
       "</style>\n",
       "<table border=\"1\" class=\"dataframe\">\n",
       "  <thead>\n",
       "    <tr style=\"text-align: right;\">\n",
       "      <th></th>\n",
       "      <th>Review</th>\n",
       "      <th>Sentiment</th>\n",
       "      <th>BagOfWords</th>\n",
       "    </tr>\n",
       "  </thead>\n",
       "  <tbody>\n",
       "    <tr>\n",
       "      <th>51</th>\n",
       "      <td>good protection and does not make phone too bu...</td>\n",
       "      <td>1</td>\n",
       "      <td>[good, protection, make, phone, bulky]</td>\n",
       "    </tr>\n",
       "    <tr>\n",
       "      <th>52</th>\n",
       "      <td>A usable keyboard actually turns a PDA into a ...</td>\n",
       "      <td>1</td>\n",
       "      <td>[usable, keyboard, actually, turns, PDA, realw...</td>\n",
       "    </tr>\n",
       "    <tr>\n",
       "      <th>53</th>\n",
       "      <td>This phone is pretty sturdy and I've never had...</td>\n",
       "      <td>1</td>\n",
       "      <td>[phone, pretty, sturdy, Ive, never, large, pro...</td>\n",
       "    </tr>\n",
       "    <tr>\n",
       "      <th>54</th>\n",
       "      <td>I love this thing!</td>\n",
       "      <td>1</td>\n",
       "      <td>[love, thing]</td>\n",
       "    </tr>\n",
       "    <tr>\n",
       "      <th>55</th>\n",
       "      <td>Everything about it is fine and reasonable for...</td>\n",
       "      <td>1</td>\n",
       "      <td>[Everything, fine, reasonable, price, ie]</td>\n",
       "    </tr>\n",
       "    <tr>\n",
       "      <th>56</th>\n",
       "      <td>VERY DISAPPOINTED.</td>\n",
       "      <td>0</td>\n",
       "      <td>[DISAPPOINTED]</td>\n",
       "    </tr>\n",
       "    <tr>\n",
       "      <th>57</th>\n",
       "      <td>I even dropped this phone into a stream and it...</td>\n",
       "      <td>1</td>\n",
       "      <td>[even, dropped, phone, stream, submerged, seco...</td>\n",
       "    </tr>\n",
       "    <tr>\n",
       "      <th>58</th>\n",
       "      <td>I have been very happy with the  and have had ...</td>\n",
       "      <td>1</td>\n",
       "      <td>[happy, complaints, one, regarding, sound, qua...</td>\n",
       "    </tr>\n",
       "    <tr>\n",
       "      <th>59</th>\n",
       "      <td>The buttons for on and off are bad.</td>\n",
       "      <td>0</td>\n",
       "      <td>[buttons, bad]</td>\n",
       "    </tr>\n",
       "    <tr>\n",
       "      <th>60</th>\n",
       "      <td>Essentially you can forget Microsoft's tech su...</td>\n",
       "      <td>0</td>\n",
       "      <td>[Essentially, forget, Microsofts, tech, support]</td>\n",
       "    </tr>\n",
       "    <tr>\n",
       "      <th>61</th>\n",
       "      <td>I really recommend this faceplates since it lo...</td>\n",
       "      <td>1</td>\n",
       "      <td>[really, recommend, faceplates, since, looks, ...</td>\n",
       "    </tr>\n",
       "    <tr>\n",
       "      <th>62</th>\n",
       "      <td>These headphones were a great find - and I thi...</td>\n",
       "      <td>1</td>\n",
       "      <td>[headphones, great, find, think, perhaps, best...</td>\n",
       "    </tr>\n",
       "    <tr>\n",
       "      <th>63</th>\n",
       "      <td>Buy a different phone - but not this.</td>\n",
       "      <td>0</td>\n",
       "      <td>[Buy, different, phone]</td>\n",
       "    </tr>\n",
       "    <tr>\n",
       "      <th>64</th>\n",
       "      <td>You have to hold the phone at a particular ang...</td>\n",
       "      <td>0</td>\n",
       "      <td>[hold, phone, particular, angle, party, hear, ...</td>\n",
       "    </tr>\n",
       "    <tr>\n",
       "      <th>65</th>\n",
       "      <td>The one big drawback of the MP player is that ...</td>\n",
       "      <td>0</td>\n",
       "      <td>[one, big, drawback, MP, player, buttons, phon...</td>\n",
       "    </tr>\n",
       "    <tr>\n",
       "      <th>66</th>\n",
       "      <td>A week later after I activated it it suddenly ...</td>\n",
       "      <td>0</td>\n",
       "      <td>[week, later, activated, suddenly, died]</td>\n",
       "    </tr>\n",
       "    <tr>\n",
       "      <th>67</th>\n",
       "      <td>It feels more comfortable than most headsets b...</td>\n",
       "      <td>1</td>\n",
       "      <td>[feels, comfortable, headsets, wear, glasses, ...</td>\n",
       "    </tr>\n",
       "    <tr>\n",
       "      <th>68</th>\n",
       "      <td>Great for iPODs too.</td>\n",
       "      <td>1</td>\n",
       "      <td>[Great, iPODs]</td>\n",
       "    </tr>\n",
       "    <tr>\n",
       "      <th>69</th>\n",
       "      <td>This device is great in several situations:.)</td>\n",
       "      <td>1</td>\n",
       "      <td>[device, great, several, situations]</td>\n",
       "    </tr>\n",
       "    <tr>\n",
       "      <th>70</th>\n",
       "      <td>Mic Doesn't work.</td>\n",
       "      <td>0</td>\n",
       "      <td>[Mic, Doesnt, work]</td>\n",
       "    </tr>\n",
       "    <tr>\n",
       "      <th>71</th>\n",
       "      <td>Even in my BMW  series which is fairly quiet I...</td>\n",
       "      <td>0</td>\n",
       "      <td>[Even, BMW, series, fairly, quiet, trouble, he...</td>\n",
       "    </tr>\n",
       "    <tr>\n",
       "      <th>72</th>\n",
       "      <td>Great choice!</td>\n",
       "      <td>1</td>\n",
       "      <td>[Great, choice]</td>\n",
       "    </tr>\n",
       "    <tr>\n",
       "      <th>73</th>\n",
       "      <td>Nice docking station for home or work.</td>\n",
       "      <td>1</td>\n",
       "      <td>[Nice, docking, station, home, work]</td>\n",
       "    </tr>\n",
       "    <tr>\n",
       "      <th>74</th>\n",
       "      <td>This is a beautiful phone.</td>\n",
       "      <td>1</td>\n",
       "      <td>[beautiful, phone]</td>\n",
       "    </tr>\n",
       "    <tr>\n",
       "      <th>75</th>\n",
       "      <td>Love this product.</td>\n",
       "      <td>1</td>\n",
       "      <td>[Love, product]</td>\n",
       "    </tr>\n",
       "    <tr>\n",
       "      <th>76</th>\n",
       "      <td>Do Not Buy for D...wrongly advertised for D.</td>\n",
       "      <td>0</td>\n",
       "      <td>[Buy, Dwrongly, advertised]</td>\n",
       "    </tr>\n",
       "    <tr>\n",
       "      <th>77</th>\n",
       "      <td>This is a great little item.</td>\n",
       "      <td>1</td>\n",
       "      <td>[great, little, item]</td>\n",
       "    </tr>\n",
       "    <tr>\n",
       "      <th>78</th>\n",
       "      <td>I love this phone  It is very handy and has a ...</td>\n",
       "      <td>1</td>\n",
       "      <td>[love, phone, handy, lot, features]</td>\n",
       "    </tr>\n",
       "    <tr>\n",
       "      <th>79</th>\n",
       "      <td>I purchased this and within  days it was no lo...</td>\n",
       "      <td>0</td>\n",
       "      <td>[purchased, within, days, longer, working]</td>\n",
       "    </tr>\n",
       "    <tr>\n",
       "      <th>80</th>\n",
       "      <td>I wear it everyday and it holds up very well.</td>\n",
       "      <td>1</td>\n",
       "      <td>[wear, everyday, holds, well]</td>\n",
       "    </tr>\n",
       "    <tr>\n",
       "      <th>81</th>\n",
       "      <td>Not a good bargain.</td>\n",
       "      <td>0</td>\n",
       "      <td>[good, bargain]</td>\n",
       "    </tr>\n",
       "    <tr>\n",
       "      <th>83</th>\n",
       "      <td>The battery runs down quickly.</td>\n",
       "      <td>0</td>\n",
       "      <td>[battery, runs, quickly]</td>\n",
       "    </tr>\n",
       "    <tr>\n",
       "      <th>84</th>\n",
       "      <td>This item worked great but it broke after  mon...</td>\n",
       "      <td>0</td>\n",
       "      <td>[item, worked, great, broke, months, use]</td>\n",
       "    </tr>\n",
       "    <tr>\n",
       "      <th>85</th>\n",
       "      <td>The headsets are easy to use and everyone love...</td>\n",
       "      <td>1</td>\n",
       "      <td>[headsets, easy, use, everyone, loves]</td>\n",
       "    </tr>\n",
       "    <tr>\n",
       "      <th>86</th>\n",
       "      <td>This phone works great.</td>\n",
       "      <td>1</td>\n",
       "      <td>[phone, works, great]</td>\n",
       "    </tr>\n",
       "    <tr>\n",
       "      <th>87</th>\n",
       "      <td>The construction of the headsets is poor.</td>\n",
       "      <td>0</td>\n",
       "      <td>[construction, headsets, poor]</td>\n",
       "    </tr>\n",
       "    <tr>\n",
       "      <th>88</th>\n",
       "      <td>Product was excellent and works better than th...</td>\n",
       "      <td>1</td>\n",
       "      <td>[Product, excellent, works, better, verizon, o...</td>\n",
       "    </tr>\n",
       "    <tr>\n",
       "      <th>89</th>\n",
       "      <td>The phone loads super!</td>\n",
       "      <td>1</td>\n",
       "      <td>[phone, loads, super]</td>\n",
       "    </tr>\n",
       "    <tr>\n",
       "      <th>90</th>\n",
       "      <td>For a product that costs as much as this one d...</td>\n",
       "      <td>0</td>\n",
       "      <td>[product, costs, much, one, expect, work, far,...</td>\n",
       "    </tr>\n",
       "    <tr>\n",
       "      <th>91</th>\n",
       "      <td>Made very sturdy.</td>\n",
       "      <td>1</td>\n",
       "      <td>[Made, sturdy]</td>\n",
       "    </tr>\n",
       "    <tr>\n",
       "      <th>92</th>\n",
       "      <td>Worked great!.</td>\n",
       "      <td>1</td>\n",
       "      <td>[Worked, great]</td>\n",
       "    </tr>\n",
       "    <tr>\n",
       "      <th>93</th>\n",
       "      <td>The ear buds only play music in one ear.</td>\n",
       "      <td>0</td>\n",
       "      <td>[ear, buds, play, music, one, ear]</td>\n",
       "    </tr>\n",
       "    <tr>\n",
       "      <th>94</th>\n",
       "      <td>Dont waste your money...</td>\n",
       "      <td>0</td>\n",
       "      <td>[Dont, waste, money]</td>\n",
       "    </tr>\n",
       "    <tr>\n",
       "      <th>95</th>\n",
       "      <td>Will order from them again!</td>\n",
       "      <td>1</td>\n",
       "      <td>[order]</td>\n",
       "    </tr>\n",
       "    <tr>\n",
       "      <th>96</th>\n",
       "      <td>If you plan to use this in a car forget about it.</td>\n",
       "      <td>0</td>\n",
       "      <td>[plan, use, car, forget]</td>\n",
       "    </tr>\n",
       "    <tr>\n",
       "      <th>97</th>\n",
       "      <td>I found this product to be waaay too big.</td>\n",
       "      <td>0</td>\n",
       "      <td>[found, product, waaay, big]</td>\n",
       "    </tr>\n",
       "    <tr>\n",
       "      <th>98</th>\n",
       "      <td>Best I've found so far .... I've tried  other ...</td>\n",
       "      <td>1</td>\n",
       "      <td>[Best, Ive, found, far, Ive, tried, bluetooths...</td>\n",
       "    </tr>\n",
       "    <tr>\n",
       "      <th>99</th>\n",
       "      <td>I'm very disappointed with my decision.</td>\n",
       "      <td>0</td>\n",
       "      <td>[Im, disappointed, decision]</td>\n",
       "    </tr>\n",
       "    <tr>\n",
       "      <th>100</th>\n",
       "      <td>Integrated seamlessly with the Motorola RAZR p...</td>\n",
       "      <td>1</td>\n",
       "      <td>[Integrated, seamlessly, Motorola, RAZR, phone]</td>\n",
       "    </tr>\n",
       "  </tbody>\n",
       "</table>\n",
       "</div>"
      ],
      "text/plain": [
       "                                                Review Sentiment  \\\n",
       "51   good protection and does not make phone too bu...         1   \n",
       "52   A usable keyboard actually turns a PDA into a ...         1   \n",
       "53   This phone is pretty sturdy and I've never had...         1   \n",
       "54                                  I love this thing!         1   \n",
       "55   Everything about it is fine and reasonable for...         1   \n",
       "56                                  VERY DISAPPOINTED.         0   \n",
       "57   I even dropped this phone into a stream and it...         1   \n",
       "58   I have been very happy with the  and have had ...         1   \n",
       "59                 The buttons for on and off are bad.         0   \n",
       "60   Essentially you can forget Microsoft's tech su...         0   \n",
       "61   I really recommend this faceplates since it lo...         1   \n",
       "62   These headphones were a great find - and I thi...         1   \n",
       "63               Buy a different phone - but not this.         0   \n",
       "64   You have to hold the phone at a particular ang...         0   \n",
       "65   The one big drawback of the MP player is that ...         0   \n",
       "66   A week later after I activated it it suddenly ...         0   \n",
       "67   It feels more comfortable than most headsets b...         1   \n",
       "68                                Great for iPODs too.         1   \n",
       "69       This device is great in several situations:.)         1   \n",
       "70                                   Mic Doesn't work.         0   \n",
       "71   Even in my BMW  series which is fairly quiet I...         0   \n",
       "72                                       Great choice!         1   \n",
       "73              Nice docking station for home or work.         1   \n",
       "74                          This is a beautiful phone.         1   \n",
       "75                                  Love this product.         1   \n",
       "76        Do Not Buy for D...wrongly advertised for D.         0   \n",
       "77                        This is a great little item.         1   \n",
       "78   I love this phone  It is very handy and has a ...         1   \n",
       "79   I purchased this and within  days it was no lo...         0   \n",
       "80       I wear it everyday and it holds up very well.         1   \n",
       "81                                 Not a good bargain.         0   \n",
       "83                      The battery runs down quickly.         0   \n",
       "84   This item worked great but it broke after  mon...         0   \n",
       "85   The headsets are easy to use and everyone love...         1   \n",
       "86                             This phone works great.         1   \n",
       "87           The construction of the headsets is poor.         0   \n",
       "88   Product was excellent and works better than th...         1   \n",
       "89                              The phone loads super!         1   \n",
       "90   For a product that costs as much as this one d...         0   \n",
       "91                                   Made very sturdy.         1   \n",
       "92                                      Worked great!.         1   \n",
       "93            The ear buds only play music in one ear.         0   \n",
       "94                            Dont waste your money...         0   \n",
       "95                         Will order from them again!         1   \n",
       "96   If you plan to use this in a car forget about it.         0   \n",
       "97           I found this product to be waaay too big.         0   \n",
       "98   Best I've found so far .... I've tried  other ...         1   \n",
       "99             I'm very disappointed with my decision.         0   \n",
       "100  Integrated seamlessly with the Motorola RAZR p...         1   \n",
       "\n",
       "                                            BagOfWords  \n",
       "51              [good, protection, make, phone, bulky]  \n",
       "52   [usable, keyboard, actually, turns, PDA, realw...  \n",
       "53   [phone, pretty, sturdy, Ive, never, large, pro...  \n",
       "54                                       [love, thing]  \n",
       "55           [Everything, fine, reasonable, price, ie]  \n",
       "56                                      [DISAPPOINTED]  \n",
       "57   [even, dropped, phone, stream, submerged, seco...  \n",
       "58   [happy, complaints, one, regarding, sound, qua...  \n",
       "59                                      [buttons, bad]  \n",
       "60    [Essentially, forget, Microsofts, tech, support]  \n",
       "61   [really, recommend, faceplates, since, looks, ...  \n",
       "62   [headphones, great, find, think, perhaps, best...  \n",
       "63                             [Buy, different, phone]  \n",
       "64   [hold, phone, particular, angle, party, hear, ...  \n",
       "65   [one, big, drawback, MP, player, buttons, phon...  \n",
       "66            [week, later, activated, suddenly, died]  \n",
       "67   [feels, comfortable, headsets, wear, glasses, ...  \n",
       "68                                      [Great, iPODs]  \n",
       "69                [device, great, several, situations]  \n",
       "70                                 [Mic, Doesnt, work]  \n",
       "71   [Even, BMW, series, fairly, quiet, trouble, he...  \n",
       "72                                     [Great, choice]  \n",
       "73                [Nice, docking, station, home, work]  \n",
       "74                                  [beautiful, phone]  \n",
       "75                                     [Love, product]  \n",
       "76                         [Buy, Dwrongly, advertised]  \n",
       "77                               [great, little, item]  \n",
       "78                 [love, phone, handy, lot, features]  \n",
       "79          [purchased, within, days, longer, working]  \n",
       "80                       [wear, everyday, holds, well]  \n",
       "81                                     [good, bargain]  \n",
       "83                            [battery, runs, quickly]  \n",
       "84           [item, worked, great, broke, months, use]  \n",
       "85              [headsets, easy, use, everyone, loves]  \n",
       "86                               [phone, works, great]  \n",
       "87                      [construction, headsets, poor]  \n",
       "88   [Product, excellent, works, better, verizon, o...  \n",
       "89                               [phone, loads, super]  \n",
       "90   [product, costs, much, one, expect, work, far,...  \n",
       "91                                      [Made, sturdy]  \n",
       "92                                     [Worked, great]  \n",
       "93                  [ear, buds, play, music, one, ear]  \n",
       "94                                [Dont, waste, money]  \n",
       "95                                             [order]  \n",
       "96                            [plan, use, car, forget]  \n",
       "97                        [found, product, waaay, big]  \n",
       "98   [Best, Ive, found, far, Ive, tried, bluetooths...  \n",
       "99                        [Im, disappointed, decision]  \n",
       "100    [Integrated, seamlessly, Motorola, RAZR, phone]  "
      ]
     },
     "execution_count": 28,
     "metadata": {},
     "output_type": "execute_result"
    }
   ],
   "source": [
    "df.loc[51:100]"
   ]
  },
  {
   "cell_type": "code",
   "execution_count": 29,
   "metadata": {},
   "outputs": [],
   "source": [
    "x = df[\"BagOfWords\"]"
   ]
  },
  {
   "cell_type": "code",
   "execution_count": 30,
   "metadata": {},
   "outputs": [
    {
     "data": {
      "text/plain": [
       "Review        object\n",
       "Sentiment     object\n",
       "BagOfWords    object\n",
       "dtype: object"
      ]
     },
     "execution_count": 30,
     "metadata": {},
     "output_type": "execute_result"
    }
   ],
   "source": [
    "df.dtypes"
   ]
  },
  {
   "cell_type": "code",
   "execution_count": 31,
   "metadata": {},
   "outputs": [],
   "source": [
    "df[\"Sentiment\"] = df[\"Sentiment\"].astype(str).astype(int)"
   ]
  },
  {
   "cell_type": "code",
   "execution_count": 32,
   "metadata": {},
   "outputs": [],
   "source": [
    "y = df[\"Sentiment\"]"
   ]
  },
  {
   "cell_type": "code",
   "execution_count": 33,
   "metadata": {},
   "outputs": [],
   "source": [
    "from sklearn.model_selection import train_test_split         \n",
    "X_train, X_test, y_train, y_test = train_test_split(x, y, test_size=0.25, random_state=1)"
   ]
  },
  {
   "cell_type": "code",
   "execution_count": 34,
   "metadata": {},
   "outputs": [],
   "source": [
    "from keras.preprocessing.text import Tokenizer # To split documents into tokens\n",
    "from keras.preprocessing.text import text_to_word_sequence # To convert words into integers\n",
    "\n",
    "tokenizer = Tokenizer(num_words=5000)\n",
    "\n",
    "# Generate index for each string based on frequency (more frequent ; lesser the index value)\n",
    "tokenizer.fit_on_texts(X_train)\n",
    "\n",
    "# Substitute words with corresponding word index values\n",
    "  # Only the words available in \"fit_on_texts\" will be considered. Others will be ignored  \n",
    "\n",
    "X_train = tokenizer.texts_to_sequences(X_train)\n",
    "X_test = tokenizer.texts_to_sequences(X_test)"
   ]
  },
  {
   "cell_type": "code",
   "execution_count": 35,
   "metadata": {},
   "outputs": [],
   "source": [
    "from keras.preprocessing import sequence\n",
    "\n",
    "maxlen = 50\n",
    "# Making the train and test statements to be of size 50 by truncating or padding accordingly\n",
    "X_train = sequence.pad_sequences(X_train, padding='post', maxlen=maxlen)\n",
    "X_test = sequence.pad_sequences(X_test, padding='post', maxlen=maxlen)\n"
   ]
  },
  {
   "cell_type": "code",
   "execution_count": 36,
   "metadata": {},
   "outputs": [],
   "source": [
    "vocab_size = len(tokenizer.word_index) + 1"
   ]
  },
  {
   "cell_type": "code",
   "execution_count": 37,
   "metadata": {},
   "outputs": [
    {
     "data": {
      "text/plain": [
       "1363"
      ]
     },
     "execution_count": 37,
     "metadata": {},
     "output_type": "execute_result"
    }
   ],
   "source": [
    "vocab_size"
   ]
  },
  {
   "cell_type": "code",
   "execution_count": 38,
   "metadata": {
    "scrolled": true
   },
   "outputs": [
    {
     "name": "stdout",
     "output_type": "stream",
     "text": [
      "Model: \"sequential\"\n",
      "_________________________________________________________________\n",
      "Layer (type)                 Output Shape              Param #   \n",
      "=================================================================\n",
      "embedding (Embedding)        (None, None, 17)          170000    \n",
      "_________________________________________________________________\n",
      "global_average_pooling1d (Gl (None, 17)                0         \n",
      "_________________________________________________________________\n",
      "dense (Dense)                (None, 17)                306       \n",
      "_________________________________________________________________\n",
      "dense_1 (Dense)              (None, 12)                216       \n",
      "_________________________________________________________________\n",
      "dense_2 (Dense)              (None, 1)                 13        \n",
      "=================================================================\n",
      "Total params: 170,535\n",
      "Trainable params: 170,535\n",
      "Non-trainable params: 0\n",
      "_________________________________________________________________\n"
     ]
    }
   ],
   "source": [
    "from tensorflow.python.keras.models import Sequential\n",
    "from tensorflow.python.keras.layers import Dense, Embedding, GlobalAveragePooling1D\n",
    "\n",
    "model = Sequential([Embedding(10000, 17), \n",
    "                   GlobalAveragePooling1D(),\n",
    "                   Dense(17,activation = \"relu\"),\n",
    "                   Dense(12,activation = \"relu\"),\n",
    "                   Dense(1,activation = \"sigmoid\")])\n",
    "\n",
    "model.compile(\n",
    "    loss = \"binary_crossentropy\",\n",
    "    optimizer =  \"adam\",\n",
    "    metrics = [\"accuracy\"])\n",
    "\n",
    "model.summary()"
   ]
  },
  {
   "cell_type": "code",
   "execution_count": 39,
   "metadata": {},
   "outputs": [
    {
     "name": "stdout",
     "output_type": "stream",
     "text": [
      "Epoch 1/20\n",
      "23/23 [==============================] - 1s 31ms/step - loss: 0.6933 - accuracy: 0.4958 - val_loss: 0.6931 - val_accuracy: 0.4768\n",
      "Epoch 2/20\n",
      "23/23 [==============================] - 0s 5ms/step - loss: 0.6929 - accuracy: 0.5099 - val_loss: 0.6928 - val_accuracy: 0.5527\n",
      "Epoch 3/20\n",
      "23/23 [==============================] - 0s 5ms/step - loss: 0.6925 - accuracy: 0.6935 - val_loss: 0.6927 - val_accuracy: 0.7131\n",
      "Epoch 4/20\n",
      "23/23 [==============================] - 0s 5ms/step - loss: 0.6920 - accuracy: 0.6992 - val_loss: 0.6925 - val_accuracy: 0.4768\n",
      "Epoch 5/20\n",
      "23/23 [==============================] - 0s 5ms/step - loss: 0.6911 - accuracy: 0.5085 - val_loss: 0.6919 - val_accuracy: 0.4937\n",
      "Epoch 6/20\n",
      "23/23 [==============================] - 0s 5ms/step - loss: 0.6893 - accuracy: 0.6879 - val_loss: 0.6911 - val_accuracy: 0.4852\n",
      "Epoch 7/20\n",
      "23/23 [==============================] - 0s 5ms/step - loss: 0.6862 - accuracy: 0.5410 - val_loss: 0.6887 - val_accuracy: 0.7426\n",
      "Epoch 8/20\n",
      "23/23 [==============================] - 0s 5ms/step - loss: 0.6816 - accuracy: 0.8531 - val_loss: 0.6832 - val_accuracy: 0.7848\n",
      "Epoch 9/20\n",
      "23/23 [==============================] - 0s 5ms/step - loss: 0.6688 - accuracy: 0.8644 - val_loss: 0.6765 - val_accuracy: 0.7932\n",
      "Epoch 10/20\n",
      "23/23 [==============================] - 0s 5ms/step - loss: 0.6515 - accuracy: 0.8983 - val_loss: 0.6653 - val_accuracy: 0.7890\n",
      "Epoch 11/20\n",
      "23/23 [==============================] - 0s 5ms/step - loss: 0.6263 - accuracy: 0.8997 - val_loss: 0.6489 - val_accuracy: 0.7975\n",
      "Epoch 12/20\n",
      "23/23 [==============================] - 0s 5ms/step - loss: 0.5919 - accuracy: 0.9237 - val_loss: 0.6275 - val_accuracy: 0.7468\n",
      "Epoch 13/20\n",
      "23/23 [==============================] - 0s 5ms/step - loss: 0.5447 - accuracy: 0.9209 - val_loss: 0.6005 - val_accuracy: 0.8059\n",
      "Epoch 14/20\n",
      "23/23 [==============================] - 0s 5ms/step - loss: 0.4873 - accuracy: 0.9562 - val_loss: 0.5720 - val_accuracy: 0.8143\n",
      "Epoch 15/20\n",
      "23/23 [==============================] - 0s 5ms/step - loss: 0.4258 - accuracy: 0.9562 - val_loss: 0.5386 - val_accuracy: 0.8186\n",
      "Epoch 16/20\n",
      "23/23 [==============================] - 0s 5ms/step - loss: 0.3636 - accuracy: 0.9576 - val_loss: 0.5062 - val_accuracy: 0.8186\n",
      "Epoch 17/20\n",
      "23/23 [==============================] - 0s 5ms/step - loss: 0.3068 - accuracy: 0.9647 - val_loss: 0.4834 - val_accuracy: 0.8186\n",
      "Epoch 18/20\n",
      "23/23 [==============================] - 0s 5ms/step - loss: 0.2558 - accuracy: 0.9746 - val_loss: 0.4627 - val_accuracy: 0.8186\n",
      "Epoch 19/20\n",
      "23/23 [==============================] - 0s 5ms/step - loss: 0.2157 - accuracy: 0.9802 - val_loss: 0.4510 - val_accuracy: 0.8101\n",
      "Epoch 20/20\n",
      "23/23 [==============================] - 0s 5ms/step - loss: 0.1827 - accuracy: 0.9816 - val_loss: 0.4332 - val_accuracy: 0.8228\n"
     ]
    },
    {
     "data": {
      "text/plain": [
       "<tensorflow.python.keras.callbacks.History at 0x14023f803d0>"
      ]
     },
     "execution_count": 39,
     "metadata": {},
     "output_type": "execute_result"
    }
   ],
   "source": [
    "model.fit(X_train, y_train, validation_data=(X_test, y_test), epochs=20, verbose = 1)"
   ]
  },
  {
   "cell_type": "code",
   "execution_count": 40,
   "metadata": {
    "scrolled": true
   },
   "outputs": [
    {
     "name": "stdout",
     "output_type": "stream",
     "text": [
      "8/8 [==============================] - 0s 1ms/step - loss: 0.4332 - accuracy: 0.8228\n",
      "Loss is :  0.4332493245601654\n",
      "Accuracy is :  82.27847814559937\n"
     ]
    }
   ],
   "source": [
    "loss, accuracy = model.evaluate(X_test, y_test)\n",
    "print(\"Loss is : \",loss)\n",
    "print(\"Accuracy is : \",accuracy*100)"
   ]
  },
  {
   "cell_type": "code",
   "execution_count": 41,
   "metadata": {},
   "outputs": [
    {
     "data": {
      "text/plain": [
       "['product', 'good', 'satisfying']"
      ]
     },
     "execution_count": 41,
     "metadata": {},
     "output_type": "execute_result"
    }
   ],
   "source": [
    "sample = \"The product was very good and satisfying.\"\n",
    "sample = text_processing(sample)\n",
    "#sample = text_to_word_sequence(sample)\n",
    "sample"
   ]
  },
  {
   "cell_type": "code",
   "execution_count": 42,
   "metadata": {},
   "outputs": [
    {
     "data": {
      "text/plain": [
       "[[4], [3], []]"
      ]
     },
     "execution_count": 42,
     "metadata": {},
     "output_type": "execute_result"
    }
   ],
   "source": [
    "sample = tokenizer.texts_to_sequences(sample)\n",
    "sample"
   ]
  },
  {
   "cell_type": "code",
   "execution_count": 43,
   "metadata": {
    "scrolled": true
   },
   "outputs": [],
   "source": [
    "simple_list = []\n",
    "for sublist in sample:\n",
    "    for item in sublist:\n",
    "        simple_list.append(item)\n",
    "#Making the entire items as a single list\n",
    "simple_list = [simple_list]\n",
    "#Padding to fit into model\n",
    "reviewSequence = sequence.pad_sequences(simple_list, padding='post', maxlen=maxlen)\n"
   ]
  },
  {
   "cell_type": "code",
   "execution_count": 44,
   "metadata": {},
   "outputs": [
    {
     "data": {
      "text/plain": [
       "array([[0.8106678]], dtype=float32)"
      ]
     },
     "execution_count": 44,
     "metadata": {},
     "output_type": "execute_result"
    }
   ],
   "source": [
    "ans = model.predict(reviewSequence)\n",
    "ans"
   ]
  },
  {
   "cell_type": "code",
   "execution_count": 45,
   "metadata": {},
   "outputs": [
    {
     "name": "stdout",
     "output_type": "stream",
     "text": [
      "The review is positive\n"
     ]
    }
   ],
   "source": [
    "if (0.4 <= ans <= 0.6):\n",
    "    print(\"The review is not too good nor too bad\")\n",
    "if(ans>0.6):\n",
    "    print(\"The review is positive\")\n",
    "elif(ans<0.4):\n",
    "    print(\"The review is negative\")"
   ]
  }
 ],
 "metadata": {
  "kernelspec": {
   "display_name": "Python 3",
   "language": "python",
   "name": "python3"
  },
  "language_info": {
   "codemirror_mode": {
    "name": "ipython",
    "version": 3
   },
   "file_extension": ".py",
   "mimetype": "text/x-python",
   "name": "python",
   "nbconvert_exporter": "python",
   "pygments_lexer": "ipython3",
   "version": "3.8.3"
  }
 },
 "nbformat": 4,
 "nbformat_minor": 4
}
